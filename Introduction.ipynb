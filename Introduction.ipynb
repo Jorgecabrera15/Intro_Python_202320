{
  "nbformat": 4,
  "nbformat_minor": 0,
  "metadata": {
    "colab": {
      "provenance": [],
      "authorship_tag": "ABX9TyMWlv8silXbQwby+MR1eAm0",
      "include_colab_link": true
    },
    "kernelspec": {
      "name": "python3",
      "display_name": "Python 3"
    },
    "language_info": {
      "name": "python"
    }
  },
  "cells": [
    {
      "cell_type": "markdown",
      "metadata": {
        "id": "view-in-github",
        "colab_type": "text"
      },
      "source": [
        "<a href=\"https://colab.research.google.com/github/Jorgecabrera15/Intro_Python_202320/blob/main/Introduction.ipynb\" target=\"_parent\"><img src=\"https://colab.research.google.com/assets/colab-badge.svg\" alt=\"Open In Colab\"/></a>"
      ]
    },
    {
      "cell_type": "code",
      "execution_count": 8,
      "metadata": {
        "colab": {
          "base_uri": "https://localhost:8080/"
        },
        "id": "XCIfKgP7KvNH",
        "outputId": "c65b7734-bffe-44eb-fab4-572908606c2c"
      },
      "outputs": [
        {
          "output_type": "stream",
          "name": "stdout",
          "text": [
            "escriba la posicion inicial:20\n",
            "escriba la velocidad inicia:16\n",
            "escriba el tiempo:8.5\n",
            "escriba la aceleracion:6\n",
            "la posicion de una particula 590.0\n"
          ]
        }
      ],
      "source": [
        "#CALCULAR LA POSICION DE UNA PARTICULA.\n",
        "\n",
        "X0 = float(input(\"escriba la posicion inicial:\"))\n",
        "V0 = float(input(\"escriba la velocidad inicia:\"))\n",
        "t = float(input(\"escriba el tiempo:\"))\n",
        "a = float(input(\"escriba la aceleracion:\"))\n",
        "\n",
        "\n",
        "X = X0 + V0*t + 0.5 +(a*(t**2))\n",
        "\n",
        "V0 = 16\n",
        "X0 = 20\n",
        "t = 8.5\n",
        "a = 6\n",
        "\n",
        "print(\"la posicion de una particula\",X)\n",
        "\n"
      ]
    },
    {
      "cell_type": "code",
      "source": [
        "#calcular la distancia entre dos puntos\n",
        "\n",
        "X1 = float(input(\"escriba la posicion del primer punto en x\"))\n",
        "Y1 = float(input(\"escriba la posicion del primer punto en y \"))\n",
        "\n",
        "X2 = float(input(\"escriba la posicion del segundo punto en x\"))\n",
        "Y2 = float(input(\"escriba la posicion del segundo punto en y\"))\n",
        "\n",
        "\n",
        "d = (((X2-X1)**2)+ ((Y2-Y1)**2))\n",
        "\n",
        "X1 = 3.7\n",
        "Y1 = 6.2\n",
        "X2 = 8.9\n",
        "Y2 = 10.25\n",
        "\n",
        "print(\"escriba la distancia entre dos puntos\", d)"
      ],
      "metadata": {
        "colab": {
          "base_uri": "https://localhost:8080/"
        },
        "id": "jnv4V4b7U5GT",
        "outputId": "1f4eabe7-0209-452c-e1b6-ac4c3ad90e16"
      },
      "execution_count": 11,
      "outputs": [
        {
          "output_type": "stream",
          "name": "stdout",
          "text": [
            "escriba la posicion del primer punto en x3.7\n",
            "escriba la posicion del primer punto en y 6.2\n",
            "escriba la posicion del segundo punto en x8.9\n",
            "escriba la posicion del segundo punto en y10.25\n",
            "escriba la distancia entre dos puntos 43.4425\n"
          ]
        }
      ]
    }
  ]
}