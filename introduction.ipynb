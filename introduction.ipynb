{
  "nbformat": 4,
  "nbformat_minor": 0,
  "metadata": {
    "colab": {
      "provenance": [],
      "authorship_tag": "ABX9TyOWUZCHY13CL0U7yqLrhVkW",
      "include_colab_link": true
    },
    "kernelspec": {
      "name": "python3",
      "display_name": "Python 3"
    },
    "language_info": {
      "name": "python"
    }
  },
  "cells": [
    {
      "cell_type": "markdown",
      "metadata": {
        "id": "view-in-github",
        "colab_type": "text"
      },
      "source": [
        "<a href=\"https://colab.research.google.com/github/Jorgecabrera15/Intro_Python_202320/blob/main/introduction.ipynb\" target=\"_parent\"><img src=\"https://colab.research.google.com/assets/colab-badge.svg\" alt=\"Open In Colab\"/></a>"
      ]
    },
    {
      "cell_type": "markdown",
      "source": [
        " # Introduccion a payton\n",
        "## Curso de programacion y algoritmia upb 202320\n",
        "- Nombre: Jorge Cabrera\n",
        "- ID: 503744\n",
        "- Email: jorge.cabrera@upb.edu.co\n",
        "\n",
        "Esta es la expresion de la linea recta:\n",
        "$$y = mx + b$$\n",
        "donde $x$ es la posicion."
      ],
      "metadata": {
        "id": "YRlmPaP7FPCr"
      }
    },
    {
      "cell_type": "code",
      "source": [
        "# comentarios\n",
        "# mis primeras lineas de codigo\n",
        "\n",
        "name= \"jorge cabrera\"\n",
        "print(\"Hello, \", name)\n"
      ],
      "metadata": {
        "colab": {
          "base_uri": "https://localhost:8080/"
        },
        "id": "Fyki0LrfSj1j",
        "outputId": "99571eaa-9ad3-4ec1-acbe-629075d954f3"
      },
      "execution_count": null,
      "outputs": [
        {
          "output_type": "stream",
          "name": "stdout",
          "text": [
            "Hello,  jorge cabrera\n"
          ]
        }
      ]
    },
    {
      "cell_type": "code",
      "source": [
        "firstname= \"jorge\"\n",
        "lastname=\"cabrera\"\n",
        "age=19\n",
        "city=\"monteria cordoba\"\n",
        "food=\"arroz con sopa\"\n",
        "print(\"mi nombre es, \", firstname, lastname,\",\" \"tengo\", age,\"años\" \"vivo en\",city,\",\" \"y me gusta\",food)\n",
        "a=3\n",
        "b=4.5\n",
        "c= a + b\n",
        "print(type(a))\n",
        "print(type(b))\n",
        "print(c)\n",
        "c = c * a\n",
        "print(c)\n",
        "c = int(c/b)\n",
        "print(c)\n",
        "d = 0.3\n",
        "c += 0.3\n",
        "print(c)\n",
        "\n",
        "\n",
        "\n",
        "\n"
      ],
      "metadata": {
        "colab": {
          "base_uri": "https://localhost:8080/"
        },
        "id": "pg6DhX9RTlBD",
        "outputId": "3c04ca13-8bf7-4938-889c-bc1c7c7bfc2c"
      },
      "execution_count": 3,
      "outputs": [
        {
          "output_type": "stream",
          "name": "stdout",
          "text": [
            "mi nombre es,  jorge cabrera ,tengo 19 añosvivo en monteria cordoba ,y me gusta arroz con sopa\n",
            "<class 'int'>\n",
            "<class 'float'>\n",
            "7.5\n",
            "22.5\n",
            "5\n",
            "5.3\n"
          ]
        }
      ]
    },
    {
      "cell_type": "code",
      "source": [
        "m= 5\n",
        "b= 2\n",
        "x= -3\n",
        "y = m * x + b\n",
        "print(y)"
      ],
      "metadata": {
        "id": "3N3KWZvxd3xc",
        "outputId": "01069b29-93ae-4dc1-a085-0a33c7bd181b",
        "colab": {
          "base_uri": "https://localhost:8080/"
        }
      },
      "execution_count": 5,
      "outputs": [
        {
          "output_type": "stream",
          "name": "stdout",
          "text": [
            "-13\n"
          ]
        }
      ]
    },
    {
      "cell_type": "code",
      "source": [
        "m = 5\n",
        "b = 2\n",
        "x = -2\n",
        "y = m * x + b\n",
        "print(y)\n"
      ],
      "metadata": {
        "id": "K-BL-mvqevxh",
        "outputId": "5fb5cbdb-3973-40f4-a40e-914fc23d1b0e",
        "colab": {
          "base_uri": "https://localhost:8080/"
        }
      },
      "execution_count": 8,
      "outputs": [
        {
          "output_type": "stream",
          "name": "stdout",
          "text": [
            "-8\n"
          ]
        }
      ]
    },
    {
      "cell_type": "code",
      "source": [
        "a = 0.1\n",
        "b = -2\n",
        "c = 0.5\n",
        "x =(-b - (b**2 - 4 * a * c)**(0.5))/ (2 * a)\n",
        "print(x)"
      ],
      "metadata": {
        "id": "sRfoWSkRfXcn",
        "outputId": "cc745531-6972-4b6e-af93-1964286d2bb8",
        "colab": {
          "base_uri": "https://localhost:8080/"
        }
      },
      "execution_count": 18,
      "outputs": [
        {
          "output_type": "stream",
          "name": "stdout",
          "text": [
            "0.25320565519103666\n"
          ]
        }
      ]
    },
    {
      "cell_type": "code",
      "source": [
        "a = 1\n",
        "b = 2\n",
        "c = -8\n",
        "x = (-b - (b**2 - 4 * a * c)**(0.5))/ (2 * a)\n",
        "print(x)"
      ],
      "metadata": {
        "colab": {
          "base_uri": "https://localhost:8080/"
        },
        "outputId": "14b49876-81f6-471b-d4b1-abdd3e167244",
        "id": "xz8tbGsxbfF-"
      },
      "execution_count": 19,
      "outputs": [
        {
          "output_type": "stream",
          "name": "stdout",
          "text": [
            "-4.0\n"
          ]
        }
      ]
    },
    {
      "cell_type": "code",
      "source": [
        "firstname =\"Jorge\"\n",
        "lastname = \"Cabrera\"\n",
        "fullname = firstname + \" \" + lastname\n",
        "print(fullname)"
      ],
      "metadata": {
        "id": "_nqcklGNkCBd",
        "outputId": "19ad11f9-5938-45be-bf79-b7dc33bbc8b6",
        "colab": {
          "base_uri": "https://localhost:8080/"
        }
      },
      "execution_count": 22,
      "outputs": [
        {
          "output_type": "stream",
          "name": "stdout",
          "text": [
            "Jorge Cabrera\n"
          ]
        }
      ]
    },
    {
      "cell_type": "code",
      "source": [
        "music =\"\"\"Del ahogado el sombrero DIOMEDES DIAZ\"\"\"\n",
        "print(music)\n",
        "\n"
      ],
      "metadata": {
        "id": "_eat2ZQ_kvyq",
        "outputId": "7cf0b9bc-b001-4843-e1b4-cde0a6cc596a",
        "colab": {
          "base_uri": "https://localhost:8080/"
        }
      },
      "execution_count": 25,
      "outputs": [
        {
          "output_type": "stream",
          "name": "stdout",
          "text": [
            "Del ahogado el sombrero DIOMEDES DIAZ\n"
          ]
        }
      ]
    },
    {
      "cell_type": "code",
      "source": [
        "a = 6\n",
        "b = 10\n",
        "print (a == b)\n",
        "print (a > b)\n",
        "print (a < b)\n",
        "print (a != b)\n",
        "print ((a == b) and (b + 3 > 5))\n",
        "print ((a == b) or (b + 3 > 5))\n",
        "print (not (a == b))"
      ],
      "metadata": {
        "id": "UT9XRg1XmHm3",
        "outputId": "91f5c18d-ae51-473c-f840-62c10a450d26",
        "colab": {
          "base_uri": "https://localhost:8080/"
        }
      },
      "execution_count": 27,
      "outputs": [
        {
          "output_type": "stream",
          "name": "stdout",
          "text": [
            "False\n",
            "False\n",
            "True\n",
            "True\n",
            "False\n",
            "True\n",
            "True\n"
          ]
        }
      ]
    }
  ]
}