{
  "nbformat": 4,
  "nbformat_minor": 0,
  "metadata": {
    "colab": {
      "provenance": [],
      "authorship_tag": "ABX9TyMQRSCeItBOxkAV14bOHFUE",
      "include_colab_link": true
    },
    "kernelspec": {
      "name": "python3",
      "display_name": "Python 3"
    },
    "language_info": {
      "name": "python"
    }
  },
  "cells": [
    {
      "cell_type": "markdown",
      "metadata": {
        "id": "view-in-github",
        "colab_type": "text"
      },
      "source": [
        "<a href=\"https://colab.research.google.com/github/Jorgecabrera15/Intro_Python_202320/blob/main/introduction.ipynb\" target=\"_parent\"><img src=\"https://colab.research.google.com/assets/colab-badge.svg\" alt=\"Open In Colab\"/></a>"
      ]
    },
    {
      "cell_type": "markdown",
      "source": [
        " # Introduccion a payton\n",
        "## Curso de programacion y algoritmia upb 202320\n",
        "- Nombre: Jorge Cabrera\n",
        "- ID: 503744\n",
        "- Email: jorge.cabrera@upb.edu.co\n",
        "\n",
        "Esta es la expresion de la linea recta:\n",
        "$$y = mx + b$$\n",
        "donde $x$ es la posicion."
      ],
      "metadata": {
        "id": "YRlmPaP7FPCr"
      }
    },
    {
      "cell_type": "code",
      "source": [
        "# comentarios\n",
        "# mis primeras lineas de codigo\n",
        "\n",
        "name= \"jorge cabrera\"\n",
        "print(\"Hello, \", name)\n"
      ],
      "metadata": {
        "colab": {
          "base_uri": "https://localhost:8080/"
        },
        "id": "Fyki0LrfSj1j",
        "outputId": "99571eaa-9ad3-4ec1-acbe-629075d954f3"
      },
      "execution_count": 3,
      "outputs": [
        {
          "output_type": "stream",
          "name": "stdout",
          "text": [
            "Hello,  jorge cabrera\n"
          ]
        }
      ]
    },
    {
      "cell_type": "code",
      "source": [
        "firstname= \"jorge\"\n",
        "lastname=\"cabrera\"\n",
        "age=19\n",
        "city=\"monteria cordoba\"\n",
        "food=\"arroz con sopa\"\n",
        "print(\"mi nombre es, \", firstname, lastname,\",\" \"tengo\", age,\"años\" \"vivo en\",city,\",\" \"y me gusta\",food)\n"
      ],
      "metadata": {
        "colab": {
          "base_uri": "https://localhost:8080/"
        },
        "id": "pg6DhX9RTlBD",
        "outputId": "e6faa4ec-74b9-42b5-8c8e-3a39ae24a5f4"
      },
      "execution_count": 9,
      "outputs": [
        {
          "output_type": "stream",
          "name": "stdout",
          "text": [
            "mi nombre es,  jorge cabrera ,tengo 19 añosvivo en monteria cordoba ,y me gusta arroz con sopa\n"
          ]
        }
      ]
    }
  ]
}