{
  "nbformat": 4,
  "nbformat_minor": 0,
  "metadata": {
    "colab": {
      "provenance": [],
      "authorship_tag": "ABX9TyM49DlXJaeOYm0gkU0JdF4I",
      "include_colab_link": true
    },
    "kernelspec": {
      "name": "python3",
      "display_name": "Python 3"
    },
    "language_info": {
      "name": "python"
    }
  },
  "cells": [
    {
      "cell_type": "markdown",
      "metadata": {
        "id": "view-in-github",
        "colab_type": "text"
      },
      "source": [
        "<a href=\"https://colab.research.google.com/github/Jorgecabrera15/Intro_Python_202320/blob/main/introduction.ipynb\" target=\"_parent\"><img src=\"https://colab.research.google.com/assets/colab-badge.svg\" alt=\"Open In Colab\"/></a>"
      ]
    },
    {
      "cell_type": "markdown",
      "source": [
        " # Introduccion a payton\n",
        "## Curso de programacion y algoritmia upb 202320\n",
        "- Nombre: Jorge Cabrera\n",
        "- ID: 503744\n",
        "- Email: jorge.cabrera@upb.edu.co\n",
        "\n",
        "Esta es la expresion de la linea recta:\n",
        "$$y = mx + b$$\n",
        "donde $x$ es la posicion."
      ],
      "metadata": {
        "id": "YRlmPaP7FPCr"
      }
    },
    {
      "cell_type": "code",
      "source": [],
      "metadata": {
        "id": "sTMftOPCIFtn"
      },
      "execution_count": null,
      "outputs": []
    }
  ]
}